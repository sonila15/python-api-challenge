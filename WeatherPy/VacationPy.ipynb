{
 "cells": [
  {
   "cell_type": "markdown",
   "metadata": {},
   "source": [
    "# VacationPy\n",
    "---\n",
    "\n",
    "## Starter Code to Import Libraries and Load the Weather and Coordinates Data"
   ]
  },
  {
   "cell_type": "code",
   "execution_count": 46,
   "metadata": {},
   "outputs": [],
   "source": [
    "# Dependencies and Setup\n",
    "import hvplot.pandas\n",
    "import pandas as pd\n",
    "import requests\n",
    "\n",
    "\n",
    "# Import API key\n",
    "from api_keys import geoapify_key"
   ]
  },
  {
   "cell_type": "code",
   "execution_count": 47,
   "metadata": {},
   "outputs": [
    {
     "data": {
      "text/html": [
       "<div>\n",
       "<style scoped>\n",
       "    .dataframe tbody tr th:only-of-type {\n",
       "        vertical-align: middle;\n",
       "    }\n",
       "\n",
       "    .dataframe tbody tr th {\n",
       "        vertical-align: top;\n",
       "    }\n",
       "\n",
       "    .dataframe thead th {\n",
       "        text-align: right;\n",
       "    }\n",
       "</style>\n",
       "<table border=\"1\" class=\"dataframe\">\n",
       "  <thead>\n",
       "    <tr style=\"text-align: right;\">\n",
       "      <th></th>\n",
       "      <th>City_ID</th>\n",
       "      <th>City</th>\n",
       "      <th>Lat</th>\n",
       "      <th>Lng</th>\n",
       "      <th>Max Temp</th>\n",
       "      <th>Humidity</th>\n",
       "      <th>Cloudiness</th>\n",
       "      <th>Wind Speed</th>\n",
       "      <th>Country</th>\n",
       "      <th>Date</th>\n",
       "    </tr>\n",
       "  </thead>\n",
       "  <tbody>\n",
       "    <tr>\n",
       "      <th>0</th>\n",
       "      <td>0</td>\n",
       "      <td>new norfolk</td>\n",
       "      <td>-42.7826</td>\n",
       "      <td>147.0587</td>\n",
       "      <td>294.10</td>\n",
       "      <td>54</td>\n",
       "      <td>99</td>\n",
       "      <td>1.34</td>\n",
       "      <td>AU</td>\n",
       "      <td>1675902298</td>\n",
       "    </tr>\n",
       "    <tr>\n",
       "      <th>1</th>\n",
       "      <td>1</td>\n",
       "      <td>rikitea</td>\n",
       "      <td>-23.1203</td>\n",
       "      <td>-134.9692</td>\n",
       "      <td>299.71</td>\n",
       "      <td>73</td>\n",
       "      <td>18</td>\n",
       "      <td>5.14</td>\n",
       "      <td>PF</td>\n",
       "      <td>1675902029</td>\n",
       "    </tr>\n",
       "    <tr>\n",
       "      <th>2</th>\n",
       "      <td>2</td>\n",
       "      <td>ahipara</td>\n",
       "      <td>-35.1667</td>\n",
       "      <td>173.1667</td>\n",
       "      <td>294.28</td>\n",
       "      <td>60</td>\n",
       "      <td>21</td>\n",
       "      <td>4.79</td>\n",
       "      <td>NZ</td>\n",
       "      <td>1675902298</td>\n",
       "    </tr>\n",
       "    <tr>\n",
       "      <th>3</th>\n",
       "      <td>3</td>\n",
       "      <td>werda</td>\n",
       "      <td>-25.2667</td>\n",
       "      <td>23.2833</td>\n",
       "      <td>292.94</td>\n",
       "      <td>78</td>\n",
       "      <td>51</td>\n",
       "      <td>5.25</td>\n",
       "      <td>BW</td>\n",
       "      <td>1675902298</td>\n",
       "    </tr>\n",
       "    <tr>\n",
       "      <th>4</th>\n",
       "      <td>4</td>\n",
       "      <td>la arena</td>\n",
       "      <td>-5.3466</td>\n",
       "      <td>-80.7109</td>\n",
       "      <td>300.80</td>\n",
       "      <td>57</td>\n",
       "      <td>47</td>\n",
       "      <td>6.36</td>\n",
       "      <td>PE</td>\n",
       "      <td>1675902299</td>\n",
       "    </tr>\n",
       "  </tbody>\n",
       "</table>\n",
       "</div>"
      ],
      "text/plain": [
       "   City_ID         City      Lat       Lng  Max Temp  Humidity  Cloudiness  \\\n",
       "0        0  new norfolk -42.7826  147.0587    294.10        54          99   \n",
       "1        1      rikitea -23.1203 -134.9692    299.71        73          18   \n",
       "2        2      ahipara -35.1667  173.1667    294.28        60          21   \n",
       "3        3        werda -25.2667   23.2833    292.94        78          51   \n",
       "4        4     la arena  -5.3466  -80.7109    300.80        57          47   \n",
       "\n",
       "   Wind Speed Country        Date  \n",
       "0        1.34      AU  1675902298  \n",
       "1        5.14      PF  1675902029  \n",
       "2        4.79      NZ  1675902298  \n",
       "3        5.25      BW  1675902298  \n",
       "4        6.36      PE  1675902299  "
      ]
     },
     "execution_count": 47,
     "metadata": {},
     "output_type": "execute_result"
    }
   ],
   "source": [
    "# Load the CSV file created in Part 1 into a Pandas DataFrame\n",
    "city_data_df = pd.read_csv(\"output_data/cities.csv\")\n",
    "\n",
    "# Display sample data\n",
    "city_data_df.head()"
   ]
  },
  {
   "cell_type": "markdown",
   "metadata": {},
   "source": [
    "---\n",
    "\n",
    "### Step 1: Create a map that displays a point for every city in the `city_data_df` DataFrame. The size of the point should be the humidity in each city."
   ]
  },
  {
   "cell_type": "code",
   "execution_count": 49,
   "metadata": {},
   "outputs": [
    {
     "data": {},
     "metadata": {},
     "output_type": "display_data"
    },
    {
     "data": {
      "application/vnd.holoviews_exec.v0+json": "",
      "text/html": [
       "<div id='2004'>\n",
       "  <div class=\"bk-root\" id=\"49fb9c38-d228-445a-8661-5d9f37203045\" data-root-id=\"2004\"></div>\n",
       "</div>\n",
       "<script type=\"application/javascript\">(function(root) {\n",
       "  function embed_document(root) {\n",
       "    var docs_json = {\"46fab4d1-c84b-4590-928b-2f96064373c3\":{\"defs\":[{\"extends\":null,\"module\":null,\"name\":\"ReactiveHTML1\",\"overrides\":[],\"properties\":[]},{\"extends\":null,\"module\":null,\"name\":\"FlexBox1\",\"overrides\":[],\"properties\":[{\"default\":\"flex-start\",\"kind\":null,\"name\":\"align_content\"},{\"default\":\"flex-start\",\"kind\":null,\"name\":\"align_items\"},{\"default\":\"row\",\"kind\":null,\"name\":\"flex_direction\"},{\"default\":\"wrap\",\"kind\":null,\"name\":\"flex_wrap\"},{\"default\":\"flex-start\",\"kind\":null,\"name\":\"justify_content\"}]},{\"extends\":null,\"module\":null,\"name\":\"GridStack1\",\"overrides\":[],\"properties\":[{\"default\":\"warn\",\"kind\":null,\"name\":\"mode\"},{\"default\":null,\"kind\":null,\"name\":\"ncols\"},{\"default\":null,\"kind\":null,\"name\":\"nrows\"},{\"default\":true,\"kind\":null,\"name\":\"allow_resize\"},{\"default\":true,\"kind\":null,\"name\":\"allow_drag\"},{\"default\":[],\"kind\":null,\"name\":\"state\"}]},{\"extends\":null,\"module\":null,\"name\":\"click1\",\"overrides\":[],\"properties\":[{\"default\":\"\",\"kind\":null,\"name\":\"terminal_output\"},{\"default\":\"\",\"kind\":null,\"name\":\"debug_name\"},{\"default\":0,\"kind\":null,\"name\":\"clears\"}]},{\"extends\":null,\"module\":null,\"name\":\"NotificationAreaBase1\",\"overrides\":[],\"properties\":[{\"default\":\"bottom-right\",\"kind\":null,\"name\":\"position\"},{\"default\":0,\"kind\":null,\"name\":\"_clear\"}]},{\"extends\":null,\"module\":null,\"name\":\"NotificationArea1\",\"overrides\":[],\"properties\":[{\"default\":[],\"kind\":null,\"name\":\"notifications\"},{\"default\":\"bottom-right\",\"kind\":null,\"name\":\"position\"},{\"default\":0,\"kind\":null,\"name\":\"_clear\"},{\"default\":[{\"background\":\"#ffc107\",\"icon\":{\"className\":\"fas fa-exclamation-triangle\",\"color\":\"white\",\"tagName\":\"i\"},\"type\":\"warning\"},{\"background\":\"#007bff\",\"icon\":{\"className\":\"fas fa-info-circle\",\"color\":\"white\",\"tagName\":\"i\"},\"type\":\"info\"}],\"kind\":null,\"name\":\"types\"}]},{\"extends\":null,\"module\":null,\"name\":\"Notification\",\"overrides\":[],\"properties\":[{\"default\":null,\"kind\":null,\"name\":\"background\"},{\"default\":3000,\"kind\":null,\"name\":\"duration\"},{\"default\":null,\"kind\":null,\"name\":\"icon\"},{\"default\":\"\",\"kind\":null,\"name\":\"message\"},{\"default\":null,\"kind\":null,\"name\":\"notification_type\"},{\"default\":false,\"kind\":null,\"name\":\"_destroyed\"}]},{\"extends\":null,\"module\":null,\"name\":\"TemplateActions1\",\"overrides\":[],\"properties\":[{\"default\":0,\"kind\":null,\"name\":\"open_modal\"},{\"default\":0,\"kind\":null,\"name\":\"close_modal\"}]},{\"extends\":null,\"module\":null,\"name\":\"MaterialTemplateActions1\",\"overrides\":[],\"properties\":[{\"default\":0,\"kind\":null,\"name\":\"open_modal\"},{\"default\":0,\"kind\":null,\"name\":\"close_modal\"}]}],\"roots\":{\"references\":[{\"attributes\":{\"children\":[{\"id\":\"2005\"},{\"id\":\"2017\"},{\"id\":\"2097\"}],\"margin\":[0,0,0,0],\"name\":\"Row02501\",\"tags\":[\"embedded\"]},\"id\":\"2004\",\"type\":\"Row\"},{\"attributes\":{\"coordinates\":null,\"group\":null,\"text_color\":\"black\",\"text_font_size\":\"12pt\"},\"id\":\"2018\",\"type\":\"Title\"},{\"attributes\":{\"dimension\":\"lon\"},\"id\":\"2050\",\"type\":\"MercatorTickFormatter\"},{\"attributes\":{},\"id\":\"2024\",\"type\":\"LinearScale\"},{\"attributes\":{},\"id\":\"2022\",\"type\":\"LinearScale\"},{\"attributes\":{\"fill_alpha\":{\"value\":0.1},\"fill_color\":{\"value\":\"#30a2da\"},\"hatch_alpha\":{\"value\":0.1},\"hatch_color\":{\"value\":\"#30a2da\"},\"line_alpha\":{\"value\":0.1},\"line_color\":{\"value\":\"#30a2da\"},\"size\":{\"value\":5.477225575051661},\"x\":{\"field\":\"Lat\"},\"y\":{\"field\":\"Lng\"}},\"id\":\"2084\",\"type\":\"Scatter\"},{\"attributes\":{\"attribution\":\"&copy; <a href=\\\"https://www.openstreetmap.org/copyright\\\">OpenStreetMap</a> contributors\",\"url\":\"https://c.tile.openstreetmap.org/{Z}/{X}/{Y}.png\"},\"id\":\"2075\",\"type\":\"WMTSTileSource\"},{\"attributes\":{},\"id\":\"2055\",\"type\":\"AllLabels\"},{\"attributes\":{\"coordinates\":null,\"group\":null,\"level\":\"glyph\",\"tile_source\":{\"id\":\"2075\"}},\"id\":\"2078\",\"type\":\"TileRenderer\"},{\"attributes\":{\"bottom_units\":\"screen\",\"coordinates\":null,\"fill_alpha\":0.5,\"fill_color\":\"lightgrey\",\"group\":null,\"left_units\":\"screen\",\"level\":\"overlay\",\"line_alpha\":1.0,\"line_color\":\"black\",\"line_dash\":[4,4],\"line_width\":2,\"right_units\":\"screen\",\"syncable\":false,\"top_units\":\"screen\"},\"id\":\"2039\",\"type\":\"BoxAnnotation\"},{\"attributes\":{\"data\":{\"Lat\":{\"__ndarray__\":\"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\",\"dtype\":\"float64\",\"order\":\"little\",\"shape\":[334]},\"Lng\":{\"__ndarray__\":\"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\",\"dtype\":\"float64\",\"order\":\"little\",\"shape\":[334]}},\"selected\":{\"id\":\"2081\"},\"selection_policy\":{\"id\":\"2094\"}},\"id\":\"2080\",\"type\":\"ColumnDataSource\"},{\"attributes\":{\"callback\":null,\"formatters\":{\"$x\":{\"id\":\"2088\"},\"$y\":{\"id\":\"2089\"}},\"renderers\":[{\"id\":\"2086\"}],\"tags\":[\"hv_created\"],\"tooltips\":[[\"Lat\",\"$x{custom}\"],[\"Lng\",\"$y{custom}\"]]},\"id\":\"2014\",\"type\":\"HoverTool\"},{\"attributes\":{\"axis_label\":\"x\",\"coordinates\":null,\"formatter\":{\"id\":\"2050\"},\"group\":null,\"major_label_policy\":{\"id\":\"2055\"},\"ticker\":{\"id\":\"2049\"}},\"id\":\"2026\",\"type\":\"LinearAxis\"},{\"attributes\":{\"axis\":{\"id\":\"2026\"},\"coordinates\":null,\"grid_line_color\":null,\"group\":null,\"ticker\":null},\"id\":\"2029\",\"type\":\"Grid\"},{\"attributes\":{\"tools\":[{\"id\":\"2014\"},{\"id\":\"2034\"},{\"id\":\"2035\"},{\"id\":\"2036\"},{\"id\":\"2037\"},{\"id\":\"2038\"}]},\"id\":\"2040\",\"type\":\"Toolbar\"},{\"attributes\":{},\"id\":\"2035\",\"type\":\"PanTool\"},{\"attributes\":{\"axis_label\":\"y\",\"coordinates\":null,\"formatter\":{\"id\":\"2052\"},\"group\":null,\"major_label_policy\":{\"id\":\"2062\"},\"ticker\":{\"id\":\"2051\"}},\"id\":\"2030\",\"type\":\"LinearAxis\"},{\"attributes\":{\"margin\":[5,5,5,5],\"name\":\"HSpacer02505\",\"sizing_mode\":\"stretch_width\"},\"id\":\"2005\",\"type\":\"Spacer\"},{\"attributes\":{\"axis\":{\"id\":\"2030\"},\"coordinates\":null,\"dimension\":1,\"grid_line_color\":null,\"group\":null,\"ticker\":null},\"id\":\"2033\",\"type\":\"Grid\"},{\"attributes\":{\"angle\":{\"value\":0.0},\"fill_alpha\":{\"value\":1.0},\"fill_color\":{\"value\":\"#30a2da\"},\"hatch_alpha\":{\"value\":1.0},\"hatch_color\":{\"value\":\"#30a2da\"},\"hatch_scale\":{\"value\":12.0},\"hatch_weight\":{\"value\":1.0},\"line_alpha\":{\"value\":1.0},\"line_cap\":{\"value\":\"butt\"},\"line_color\":{\"value\":\"#30a2da\"},\"line_dash\":{\"value\":[]},\"line_dash_offset\":{\"value\":0},\"line_join\":{\"value\":\"bevel\"},\"line_width\":{\"value\":1},\"marker\":{\"value\":\"circle\"},\"size\":{\"value\":5.477225575051661},\"x\":{\"field\":\"Lat\"},\"y\":{\"field\":\"Lng\"}},\"id\":\"2090\",\"type\":\"Scatter\"},{\"attributes\":{\"dimension\":\"lat\"},\"id\":\"2052\",\"type\":\"MercatorTickFormatter\"},{\"attributes\":{\"zoom_on_axis\":false},\"id\":\"2036\",\"type\":\"WheelZoomTool\"},{\"attributes\":{\"code\":\"\\n        var projections = Bokeh.require(\\\"core/util/projections\\\");\\n        var x = special_vars.data_x\\n        var y = special_vars.data_y\\n        var coords = projections.wgs84_mercator.invert(x, y)\\n        return \\\"\\\" + (coords[1]).toFixed(4)\\n    \"},\"id\":\"2089\",\"type\":\"CustomJSHover\"},{\"attributes\":{\"coordinates\":null,\"data_source\":{\"id\":\"2080\"},\"glyph\":{\"id\":\"2083\"},\"group\":null,\"hover_glyph\":null,\"muted_glyph\":{\"id\":\"2085\"},\"nonselection_glyph\":{\"id\":\"2084\"},\"selection_glyph\":{\"id\":\"2090\"},\"view\":{\"id\":\"2087\"}},\"id\":\"2086\",\"type\":\"GlyphRenderer\"},{\"attributes\":{},\"id\":\"2034\",\"type\":\"SaveTool\"},{\"attributes\":{\"dimension\":\"lat\"},\"id\":\"2051\",\"type\":\"MercatorTicker\"},{\"attributes\":{\"dimension\":\"lon\"},\"id\":\"2049\",\"type\":\"MercatorTicker\"},{\"attributes\":{\"match_aspect\":true,\"overlay\":{\"id\":\"2039\"}},\"id\":\"2037\",\"type\":\"BoxZoomTool\"},{\"attributes\":{\"source\":{\"id\":\"2080\"}},\"id\":\"2087\",\"type\":\"CDSView\"},{\"attributes\":{},\"id\":\"2038\",\"type\":\"ResetTool\"},{\"attributes\":{},\"id\":\"2062\",\"type\":\"AllLabels\"},{\"attributes\":{},\"id\":\"2094\",\"type\":\"UnionRenderers\"},{\"attributes\":{\"fill_alpha\":{\"value\":0.2},\"fill_color\":{\"value\":\"#30a2da\"},\"hatch_alpha\":{\"value\":0.2},\"hatch_color\":{\"value\":\"#30a2da\"},\"line_alpha\":{\"value\":0.2},\"line_color\":{\"value\":\"#30a2da\"},\"size\":{\"value\":5.477225575051661},\"x\":{\"field\":\"Lat\"},\"y\":{\"field\":\"Lng\"}},\"id\":\"2085\",\"type\":\"Scatter\"},{\"attributes\":{\"end\":9254388.282420162,\"min_interval\":5,\"reset_end\":9254388.282420162,\"reset_start\":-6647441.655328785,\"start\":-6647441.655328785,\"tags\":[[[\"Lat\",\"Lat\",null]]]},\"id\":\"2010\",\"type\":\"Range1d\"},{\"attributes\":{},\"id\":\"2081\",\"type\":\"Selection\"},{\"attributes\":{\"code\":\"\\n        var projections = Bokeh.require(\\\"core/util/projections\\\");\\n        var x = special_vars.data_x\\n        var y = special_vars.data_y\\n        var coords = projections.wgs84_mercator.invert(x, y)\\n        return \\\"\\\" + (coords[0]).toFixed(4)\\n    \"},\"id\":\"2088\",\"type\":\"CustomJSHover\"},{\"attributes\":{\"margin\":[5,5,5,5],\"name\":\"HSpacer02506\",\"sizing_mode\":\"stretch_width\"},\"id\":\"2097\",\"type\":\"Spacer\"},{\"attributes\":{\"fill_color\":{\"value\":\"#30a2da\"},\"hatch_color\":{\"value\":\"#30a2da\"},\"line_color\":{\"value\":\"#30a2da\"},\"size\":{\"value\":5.477225575051661},\"x\":{\"field\":\"Lat\"},\"y\":{\"field\":\"Lng\"}},\"id\":\"2083\",\"type\":\"Scatter\"},{\"attributes\":{\"end\":24045010.011347096,\"min_interval\":5,\"reset_end\":24045010.011347096,\"reset_start\":-24045010.011347096,\"start\":-24045010.011347096,\"tags\":[[[\"Lng\",\"Lng\",null]]]},\"id\":\"2011\",\"type\":\"Range1d\"},{\"attributes\":{\"below\":[{\"id\":\"2026\"}],\"center\":[{\"id\":\"2029\"},{\"id\":\"2033\"}],\"frame_height\":300,\"frame_width\":99,\"height\":null,\"left\":[{\"id\":\"2030\"}],\"margin\":[5,5,5,5],\"match_aspect\":true,\"min_border_bottom\":10,\"min_border_left\":10,\"min_border_right\":10,\"min_border_top\":10,\"renderers\":[{\"id\":\"2078\"},{\"id\":\"2086\"}],\"sizing_mode\":\"fixed\",\"title\":{\"id\":\"2018\"},\"toolbar\":{\"id\":\"2040\"},\"width\":null,\"x_range\":{\"id\":\"2010\"},\"x_scale\":{\"id\":\"2022\"},\"y_range\":{\"id\":\"2011\"},\"y_scale\":{\"id\":\"2024\"}},\"id\":\"2017\",\"subtype\":\"Figure\",\"type\":\"Plot\"}],\"root_ids\":[\"2004\"]},\"title\":\"Bokeh Application\",\"version\":\"2.4.3\"}};\n",
       "    var render_items = [{\"docid\":\"46fab4d1-c84b-4590-928b-2f96064373c3\",\"root_ids\":[\"2004\"],\"roots\":{\"2004\":\"49fb9c38-d228-445a-8661-5d9f37203045\"}}];\n",
       "    root.Bokeh.embed.embed_items_notebook(docs_json, render_items);\n",
       "  }\n",
       "  if (root.Bokeh !== undefined && root.Bokeh.Panel !== undefined) {\n",
       "    embed_document(root);\n",
       "  } else {\n",
       "    var attempts = 0;\n",
       "    var timer = setInterval(function(root) {\n",
       "      if (root.Bokeh !== undefined && root.Bokeh.Panel !== undefined) {\n",
       "        clearInterval(timer);\n",
       "        embed_document(root);\n",
       "      } else if (document.readyState == \"complete\") {\n",
       "        attempts++;\n",
       "        if (attempts > 200) {\n",
       "          clearInterval(timer);\n",
       "          console.log(\"Bokeh: ERROR: Unable to run BokehJS code because BokehJS library is missing\");\n",
       "        }\n",
       "      }\n",
       "    }, 25, root)\n",
       "  }\n",
       "})(window);</script>"
      ],
      "text/plain": [
       ":Overlay\n",
       "   .Tiles.I  :Tiles   [x,y]\n",
       "   .Points.I :Points   [Lat,Lng]"
      ]
     },
     "execution_count": 49,
     "metadata": {
      "application/vnd.holoviews_exec.v0+json": {
       "id": "2004"
      }
     },
     "output_type": "execute_result"
    }
   ],
   "source": [
    "%%capture --no-display\n",
    "city_data_df = city_data_df.dropna()\n",
    "\n",
    "# Configure the map plot\n",
    "map_plot_2 = city_data_df.hvplot.points(\n",
    "    \"Lat\",\n",
    "    \"Lng\",\n",
    "    geo = True,\n",
    "    tiles = \"OSM\",\n",
    "    frame_width = 700,\n",
    "    frame_height = 500\n",
    "    \n",
    ")\n",
    "\n",
    "\n",
    "# Create a Humidity heatmap layer\n",
    "\n",
    "\n",
    "\n",
    "# Display the map\n",
    "map_plot"
   ]
  },
  {
   "cell_type": "markdown",
   "metadata": {},
   "source": [
    "### Step 2: Narrow down the `city_data_df` DataFrame to find your ideal weather condition"
   ]
  },
  {
   "cell_type": "code",
   "execution_count": 50,
   "metadata": {},
   "outputs": [
    {
     "data": {
      "text/html": [
       "<div>\n",
       "<style scoped>\n",
       "    .dataframe tbody tr th:only-of-type {\n",
       "        vertical-align: middle;\n",
       "    }\n",
       "\n",
       "    .dataframe tbody tr th {\n",
       "        vertical-align: top;\n",
       "    }\n",
       "\n",
       "    .dataframe thead th {\n",
       "        text-align: right;\n",
       "    }\n",
       "</style>\n",
       "<table border=\"1\" class=\"dataframe\">\n",
       "  <thead>\n",
       "    <tr style=\"text-align: right;\">\n",
       "      <th></th>\n",
       "      <th>City_ID</th>\n",
       "      <th>City</th>\n",
       "      <th>Lat</th>\n",
       "      <th>Lng</th>\n",
       "      <th>Max Temp</th>\n",
       "      <th>Humidity</th>\n",
       "      <th>Cloudiness</th>\n",
       "      <th>Wind Speed</th>\n",
       "      <th>Country</th>\n",
       "      <th>Date</th>\n",
       "    </tr>\n",
       "  </thead>\n",
       "  <tbody>\n",
       "  </tbody>\n",
       "</table>\n",
       "</div>"
      ],
      "text/plain": [
       "Empty DataFrame\n",
       "Columns: [City_ID, City, Lat, Lng, Max Temp, Humidity, Cloudiness, Wind Speed, Country, Date]\n",
       "Index: []"
      ]
     },
     "execution_count": 50,
     "metadata": {},
     "output_type": "execute_result"
    }
   ],
   "source": [
    "# Narrow down cities that fit criteria and drop any results with null values\n",
    "ideal_weather_df = city_data_df[(city_data_df[\"Max Temp\"] < 80) \n",
    "                                    & (city_data_df[\"Max Temp\"] > 70) \n",
    "                                    & (city_data_df[\"Wind Speed\"] < 10) \n",
    "                                    & (city_data_df[\"Cloudiness\"] == 0)]\n",
    "\n",
    "# Drop any rows with null values\n",
    "# YOUR CODE HERE\n",
    "\n",
    "# Display sample data\n",
    "ideal_weather_df"
   ]
  },
  {
   "cell_type": "markdown",
   "metadata": {},
   "source": [
    "### Step 3: Create a new DataFrame called `hotel_df`."
   ]
  },
  {
   "cell_type": "code",
   "execution_count": 5,
   "metadata": {},
   "outputs": [],
   "source": [
    "# Use the Pandas copy function to create DataFrame called hotel_df to store the city, country, coordinates, and humidity\n",
    "# YOUR CODE HERE\n",
    "\n",
    "# Add an empty column, \"Hotel Name,\" to the DataFrame so you can store the hotel found using the Geoapify API\n",
    "# YOUR CODE HERE\n",
    "\n",
    "# Display sample data\n",
    "# YOUR CODE HERE"
   ]
  },
  {
   "cell_type": "markdown",
   "metadata": {},
   "source": [
    "### Step 4: For each city, use the Geoapify API to find the first hotel located within 10,000 metres of your coordinates."
   ]
  },
  {
   "cell_type": "code",
   "execution_count": 6,
   "metadata": {},
   "outputs": [
    {
     "ename": "SyntaxError",
     "evalue": "invalid syntax (788381735.py, line 2)",
     "output_type": "error",
     "traceback": [
      "\u001b[1;36m  File \u001b[1;32m\"C:\\Users\\sonil\\AppData\\Local\\Temp\\ipykernel_8620\\788381735.py\"\u001b[1;36m, line \u001b[1;32m2\u001b[0m\n\u001b[1;33m    radius = # YOUR CODE HERE\u001b[0m\n\u001b[1;37m             ^\u001b[0m\n\u001b[1;31mSyntaxError\u001b[0m\u001b[1;31m:\u001b[0m invalid syntax\n"
     ]
    }
   ],
   "source": [
    "# Set parameters to search for a hotel\n",
    "radius = # YOUR CODE HERE\n",
    "params = {\n",
    "    # YOUR CODE HERE\n",
    "}\n",
    "\n",
    "# Print a message to follow up the hotel search\n",
    "print(\"Starting hotel search\")\n",
    "\n",
    "# Iterate through the hotel_df DataFrame\n",
    "for index, row in hotel_df.iterrows():\n",
    "    # get latitude, longitude from the DataFrame\n",
    "    # YOUR CODE HERE\n",
    "    \n",
    "    # Add filter and bias parameters with the current city's latitude and longitude to the params dictionary\n",
    "    params[\"filter\"] = # YOUR CODE HERE\n",
    "    params[\"bias\"] = # YOUR CODE HERE\n",
    "    \n",
    "    # Set base URL\n",
    "    base_url = \"https://api.geoapify.com/v2/places\"\n",
    "\n",
    "\n",
    "    # Make and API request using the params dictionaty\n",
    "    name_address = # YOUR CODE HERE\n",
    "    \n",
    "    # Convert the API response to JSON format\n",
    "    name_address = # YOUR CODE HERE\n",
    "    \n",
    "    # Grab the first hotel from the results and store the name in the hotel_df DataFrame\n",
    "    try:\n",
    "        hotel_df.loc[index, \"Hotel Name\"] = name_address[\"features\"][0][\"properties\"][\"name\"]\n",
    "    except (KeyError, IndexError):\n",
    "        # If no hotel is found, set the hotel name as \"No hotel found\".\n",
    "        hotel_df.loc[index, \"Hotel Name\"] = \"No hotel found\"\n",
    "        \n",
    "    # Log the search results\n",
    "    print(f\"{hotel_df.loc[index, 'City']} - nearest hotel: {hotel_df.loc[index, 'Hotel Name']}\")\n",
    "\n",
    "# Display sample data\n",
    "hotel_df"
   ]
  },
  {
   "cell_type": "markdown",
   "metadata": {},
   "source": [
    "### Step 5: Add the hotel name and the country as additional information in the hover message for each city in the map."
   ]
  },
  {
   "cell_type": "code",
   "execution_count": null,
   "metadata": {},
   "outputs": [],
   "source": [
    "%%capture --no-display\n",
    "\n",
    "# Configure the map plot\n",
    "# YOUR CODE HERE\n",
    "\n",
    "# Display the map\n",
    "# YOUR CODE HERE"
   ]
  },
  {
   "cell_type": "code",
   "execution_count": null,
   "metadata": {},
   "outputs": [],
   "source": []
  }
 ],
 "metadata": {
  "kernelspec": {
   "display_name": "Python 3 (ipykernel)",
   "language": "python",
   "name": "python3"
  },
  "language_info": {
   "codemirror_mode": {
    "name": "ipython",
    "version": 3
   },
   "file_extension": ".py",
   "mimetype": "text/x-python",
   "name": "python",
   "nbconvert_exporter": "python",
   "pygments_lexer": "ipython3",
   "version": "3.9.13"
  },
  "latex_envs": {
   "LaTeX_envs_menu_present": true,
   "autoclose": false,
   "autocomplete": true,
   "bibliofile": "biblio.bib",
   "cite_by": "apalike",
   "current_citInitial": 1,
   "eqLabelWithNumbers": true,
   "eqNumInitial": 1,
   "hotkeys": {
    "equation": "Ctrl-E",
    "itemize": "Ctrl-I"
   },
   "labels_anchors": false,
   "latex_user_defs": false,
   "report_style_numbering": false,
   "user_envs_cfg": false
  }
 },
 "nbformat": 4,
 "nbformat_minor": 4
}
